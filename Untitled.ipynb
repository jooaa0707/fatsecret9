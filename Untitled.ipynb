{
 "cells": [
  {
   "cell_type": "code",
   "execution_count": 1,
   "id": "ead576a7",
   "metadata": {},
   "outputs": [],
   "source": [
    "import pandas as pd\n",
    "\n",
    "cal_data = pd.read_csv('fatsecret.csv')"
   ]
  },
  {
   "cell_type": "code",
   "execution_count": 2,
   "id": "49b5f844",
   "metadata": {
    "scrolled": true
   },
   "outputs": [
    {
     "data": {
      "text/html": [
       "<div>\n",
       "<style scoped>\n",
       "    .dataframe tbody tr th:only-of-type {\n",
       "        vertical-align: middle;\n",
       "    }\n",
       "\n",
       "    .dataframe tbody tr th {\n",
       "        vertical-align: top;\n",
       "    }\n",
       "\n",
       "    .dataframe thead th {\n",
       "        text-align: right;\n",
       "    }\n",
       "</style>\n",
       "<table border=\"1\" class=\"dataframe\">\n",
       "  <thead>\n",
       "    <tr style=\"text-align: right;\">\n",
       "      <th></th>\n",
       "      <th>id</th>\n",
       "      <th>name</th>\n",
       "      <th>cal</th>\n",
       "      <th>fat</th>\n",
       "      <th>carbo</th>\n",
       "      <th>protein</th>\n",
       "      <th>cal2</th>\n",
       "      <th>basket</th>\n",
       "    </tr>\n",
       "  </thead>\n",
       "  <tbody>\n",
       "    <tr>\n",
       "      <th>0</th>\n",
       "      <td>0</td>\n",
       "      <td>고기듬뿍 불고기 백반</td>\n",
       "      <td>586kcal</td>\n",
       "      <td>18.00g</td>\n",
       "      <td>77.00g</td>\n",
       "      <td>29.00g</td>\n",
       "      <td>586</td>\n",
       "      <td>NaN</td>\n",
       "    </tr>\n",
       "    <tr>\n",
       "      <th>1</th>\n",
       "      <td>1</td>\n",
       "      <td>참치마요 삼각김밥</td>\n",
       "      <td>219kcal</td>\n",
       "      <td>7.00g</td>\n",
       "      <td>31.00g</td>\n",
       "      <td>8.00g</td>\n",
       "      <td>219</td>\n",
       "      <td>1.0</td>\n",
       "    </tr>\n",
       "    <tr>\n",
       "      <th>2</th>\n",
       "      <td>2</td>\n",
       "      <td>동의 훈제란</td>\n",
       "      <td>55kcal</td>\n",
       "      <td>3.30g</td>\n",
       "      <td>0.40g</td>\n",
       "      <td>6.00g</td>\n",
       "      <td>55</td>\n",
       "      <td>NaN</td>\n",
       "    </tr>\n",
       "    <tr>\n",
       "      <th>3</th>\n",
       "      <td>3</td>\n",
       "      <td>삼겹살구이정식</td>\n",
       "      <td>762kcal</td>\n",
       "      <td>30.00g</td>\n",
       "      <td>96.00g</td>\n",
       "      <td>27.00g</td>\n",
       "      <td>762</td>\n",
       "      <td>1.0</td>\n",
       "    </tr>\n",
       "    <tr>\n",
       "      <th>4</th>\n",
       "      <td>4</td>\n",
       "      <td>숯향가득 삼겹살구이</td>\n",
       "      <td>295kcal</td>\n",
       "      <td>16.00g</td>\n",
       "      <td>9.00g</td>\n",
       "      <td>28.00g</td>\n",
       "      <td>295</td>\n",
       "      <td>NaN</td>\n",
       "    </tr>\n",
       "  </tbody>\n",
       "</table>\n",
       "</div>"
      ],
      "text/plain": [
       "   id         name      cal     fat   carbo protein  cal2  basket\n",
       "0   0  고기듬뿍 불고기 백반  586kcal  18.00g  77.00g  29.00g   586     NaN\n",
       "1   1    참치마요 삼각김밥  219kcal   7.00g  31.00g   8.00g   219     1.0\n",
       "2   2       동의 훈제란   55kcal   3.30g   0.40g   6.00g    55     NaN\n",
       "3   3      삼겹살구이정식  762kcal  30.00g  96.00g  27.00g   762     1.0\n",
       "4   4   숯향가득 삼겹살구이  295kcal  16.00g   9.00g  28.00g   295     NaN"
      ]
     },
     "execution_count": 2,
     "metadata": {},
     "output_type": "execute_result"
    }
   ],
   "source": [
    "cal_data.head()"
   ]
  },
  {
   "cell_type": "code",
   "execution_count": 48,
   "id": "48da0424",
   "metadata": {},
   "outputs": [],
   "source": [
    "text_input_1=\"동의 훈제란\"\n",
    "text_input_2=\"고기듬뿍 불고기 백반\"\n",
    "text_input_3=\"동의 훈제란\""
   ]
  },
  {
   "cell_type": "code",
   "execution_count": 49,
   "id": "5963a319",
   "metadata": {},
   "outputs": [
    {
     "data": {
      "text/plain": [
       "0             고기듬뿍 불고기 백반\n",
       "1               참치마요 삼각김밥\n",
       "2                  동의 훈제란\n",
       "3                 삼겹살구이정식\n",
       "4              숯향가득 삼겹살구이\n",
       "              ...        \n",
       "2360         정통탕수육과 새콤유린기\n",
       "2361                 채식마요\n",
       "2362            해피버쓰데이 샌드\n",
       "2363              치즈 프로틴칩\n",
       "2364    담백&매콤 참치마요&소고기고추장\n",
       "Name: name, Length: 2365, dtype: object"
      ]
     },
     "execution_count": 49,
     "metadata": {},
     "output_type": "execute_result"
    }
   ],
   "source": [
    "cal_data['name']"
   ]
  },
  {
   "cell_type": "code",
   "execution_count": 50,
   "id": "7d98469f",
   "metadata": {
    "scrolled": true
   },
   "outputs": [
    {
     "data": {
      "text/plain": [
       "2    165\n",
       "Name: cal2, dtype: int64"
      ]
     },
     "execution_count": 50,
     "metadata": {},
     "output_type": "execute_result"
    }
   ],
   "source": [
    "cal_data[cal_data['name']==\"동의 훈제란\"].cal2.va+cal_data[cal_data['name']==\"동의 훈제란\"].cal2+cal_data[cal_data['name']==\"동의 훈제란\"].cal2"
   ]
  },
  {
   "cell_type": "code",
   "execution_count": 70,
   "id": "84f75597",
   "metadata": {},
   "outputs": [
    {
     "data": {
      "text/plain": [
       "250"
      ]
     },
     "execution_count": 70,
     "metadata": {},
     "output_type": "execute_result"
    }
   ],
   "source": [
    "cal_data[cal_data['name']==\"치즈 프로틴칩\"].cal2.values[0]"
   ]
  },
  {
   "cell_type": "code",
   "execution_count": 52,
   "id": "ae85dd62",
   "metadata": {},
   "outputs": [],
   "source": [
    "goal =3000"
   ]
  },
  {
   "cell_type": "code",
   "execution_count": 71,
   "id": "19ce0f93",
   "metadata": {},
   "outputs": [
    {
     "data": {
      "text/plain": [
       "696"
      ]
     },
     "execution_count": 71,
     "metadata": {},
     "output_type": "execute_result"
    }
   ],
   "source": [
    "cal_data[cal_data['name']==text_input_1].cal2.values[0]+cal_data[cal_data['name']==text_input_2].cal2.values[0]+cal_data[cal_data['name']==text_input_3].cal2.values[0]"
   ]
  },
  {
   "cell_type": "code",
   "execution_count": 68,
   "id": "5afee546",
   "metadata": {},
   "outputs": [
    {
     "data": {
      "text/plain": [
       "0   NaN\n",
       "2   NaN\n",
       "Name: cal2, dtype: float64"
      ]
     },
     "execution_count": 68,
     "metadata": {},
     "output_type": "execute_result"
    }
   ],
   "source": [
    "cal_data[cal_data['name']==text_input_1].cal2+cal_data[cal_data['name']==text_input_2].cal2"
   ]
  },
  {
   "cell_type": "code",
   "execution_count": 65,
   "id": "53183d19",
   "metadata": {},
   "outputs": [
    {
     "data": {
      "text/plain": [
       "0   NaN\n",
       "2   NaN\n",
       "Name: cal2, dtype: float64"
      ]
     },
     "execution_count": 65,
     "metadata": {},
     "output_type": "execute_result"
    }
   ],
   "source": [
    "goal-(cal_data[cal_data['name']==text_input_1].cal2+cal_data[cal_data['name']==text_input_2].cal2+cal_data[cal_data['name']==text_input_3].cal2)"
   ]
  },
  {
   "cell_type": "code",
   "execution_count": 62,
   "id": "ae256818",
   "metadata": {},
   "outputs": [],
   "source": [
    "din = goal-(cal_data[cal_data['name']==text_input_1].cal2+cal_data[cal_data['name']==text_input_2].cal2+cal_data[cal_data['name']==text_input_3].cal2)"
   ]
  },
  {
   "cell_type": "code",
   "execution_count": 64,
   "id": "c96d58bf",
   "metadata": {},
   "outputs": [
    {
     "data": {
      "text/plain": [
       "0   NaN\n",
       "2   NaN\n",
       "Name: cal2, dtype: float64"
      ]
     },
     "execution_count": 64,
     "metadata": {},
     "output_type": "execute_result"
    }
   ],
   "source": [
    "din"
   ]
  },
  {
   "cell_type": "code",
   "execution_count": 35,
   "id": "e6a590a3",
   "metadata": {},
   "outputs": [],
   "source": [
    "cal_search_basket=cal_data[cal_data['basket']==1]"
   ]
  },
  {
   "cell_type": "code",
   "execution_count": 45,
   "id": "ab519c81",
   "metadata": {},
   "outputs": [],
   "source": [
    "import numpy as np"
   ]
  },
  {
   "cell_type": "code",
   "execution_count": 47,
   "id": "bccde360",
   "metadata": {},
   "outputs": [],
   "source": [
    "cal_search_basket_rec=cal_search_basket[cal_search_basket['cal2']< din.values[0]]"
   ]
  },
  {
   "cell_type": "code",
   "execution_count": null,
   "id": "0b868824",
   "metadata": {},
   "outputs": [],
   "source": [
    "    cal_search_basket=cal_data[cal_data['basket']==1]\n",
    "    cal_search_basket_rec=cal_search_basket[cal_search_basket['cal2']< din]\n",
    "    st.table(cal_search_basket_rec[['name','cal2']])"
   ]
  }
 ],
 "metadata": {
  "kernelspec": {
   "display_name": "Python 3 (ipykernel)",
   "language": "python",
   "name": "python3"
  },
  "language_info": {
   "codemirror_mode": {
    "name": "ipython",
    "version": 3
   },
   "file_extension": ".py",
   "mimetype": "text/x-python",
   "name": "python",
   "nbconvert_exporter": "python",
   "pygments_lexer": "ipython3",
   "version": "3.9.13"
  }
 },
 "nbformat": 4,
 "nbformat_minor": 5
}
